{
 "cells": [
  {
   "cell_type": "markdown",
   "metadata": {
    "collapsed": true,
    "nbpresent": {
     "id": "7fc0cefe-8b1c-4ca9-aa39-094614969842"
    }
   },
   "source": [
    "# Data Science in Practice\n",
    "\n",
    "Welcome to the hands on materials for the Introduction to Machine Learning I - UC San Diego COGS 118A. \n",
    "\n",
    "This notebook will guide through getting the tools you will need for working with these tutorials and assignments."
   ]
  },
  {
   "cell_type": "markdown",
   "metadata": {
    "nbpresent": {
     "id": "b6153143-e694-4e86-96b0-243f56bad8d5"
    }
   },
   "source": [
    "## What do you need for these tutorials?\n",
    "\n",
    "### Software\n",
    "\n",
    "- Working install of python3.6.x (any python 3.6 version), with the anaconda distribution\n",
    "- Jupyter Notebooks"
   ]
  },
  {
   "cell_type": "markdown",
   "metadata": {},
   "source": [
    "### Prerequisites\n",
    "\n",
    "This class, and this series of tutorials, presumes that you already have some basic knowledge of programming.\n",
    "\n",
    "In particular it assumes some knowledge Python, covering the standard library. \n",
    "\n",
    "If you are somewhat unfamiliar with Python, you can follow the links in the Python notebook to catch up. \n",
    "\n",
    "### Computational Resources\n",
    "\n",
    "The examples throughout these tutorials, and in the assignments are not computationally heavy. \n",
    "\n",
    "You should be able to run all these materials on any computer you have access to, assuming it will run the aforementioned tools. "
   ]
  },
  {
   "cell_type": "markdown",
   "metadata": {},
   "source": [
    "## Tools\n",
    "\n",
    "The following are a series of tools that you will need for this class"
   ]
  },
  {
   "cell_type": "markdown",
   "metadata": {},
   "source": [
    "<img src=\"img/jupyter.png\" width=\"300px\">"
   ]
  },
  {
   "cell_type": "markdown",
   "metadata": {
    "nbpresent": {
     "id": "0f4dd046-4020-465c-85f6-3d92ac9fe145"
    }
   },
   "source": [
    "<div class=\"alert alert-success\">\n",
    "Jupyter notebooks are a way to intermix code, outputs and plain text. \n",
    "They run in a web browser, and connect to a kernel to be able to execute code. \n",
    "</div>\n",
    "\n",
    "<div class=\"alert alert-info\">\n",
    "The official Jupyter website is available \n",
    "<a href=\"http://jupyter.org\" class=\"alert-link\">here</a>.\n",
    "</div>\n",
    "\n",
    "<hr>"
   ]
  },
  {
   "cell_type": "markdown",
   "metadata": {},
   "source": [
    "Note that you do not need to download Jupyter separately, as it comes packaged with anaconda, described below. \n",
    "\n",
    "<hr>"
   ]
  },
  {
   "cell_type": "markdown",
   "metadata": {},
   "source": [
    "<img src=\"img/NBViewer.png\" width=\"800px\">"
   ]
  },
  {
   "cell_type": "markdown",
   "metadata": {
    "nbpresent": {
     "id": "b57ed03a-8c01-4e48-95e8-9c6753e35088"
    }
   },
   "source": [
    "<div class=\"alert alert-success\">\n",
    "Notebooks can be rendered on webpages, and shared with others. NBViewer is a tool to host and render notebooks.\n",
    "</div>\n",
    "\n",
    "<div class=\"alert alert-info\">\n",
    "NBViewer is available \n",
    "<a href=\"https://nbviewer.jupyter.org/\" class=\"alert-link\">here</a>.\n",
    "</div>"
   ]
  },
  {
   "cell_type": "markdown",
   "metadata": {},
   "source": [
    "Note that NBViewer is not a tool that you need to download, or necessarily use at all, it is simply a useful tool available online to view notebooks.\n",
    "\n",
    "<hr>"
   ]
  },
  {
   "cell_type": "markdown",
   "metadata": {},
   "source": [
    "<img src=\"img/anaconda.png\" width=\"450px\">"
   ]
  },
  {
   "cell_type": "markdown",
   "metadata": {
    "nbpresent": {
     "id": "a0fd64ab-0202-4900-8e6d-155c29c2e750"
    }
   },
   "source": [
    "<div class=\"alert alert-success\">\n",
    "Anaconda is an open-source distribution of Python, designed for scientific computing, data science and machine learning. \n",
    "</div>\n",
    "\n",
    "<div class=\"alert alert-info\">\n",
    "The anaconda website is \n",
    "<a href=\"https://www.anaconda.com\" class=\"alert-link\">here</a>,\n",
    "with the download page\n",
    "<a href=\"https://www.anaconda.com\" class=\"alert-link\">here</a>.\n",
    "</div>"
   ]
  },
  {
   "cell_type": "markdown",
   "metadata": {},
   "source": [
    "Anaconda itself is a distribution, that is, a collection of packages that are curated and maintained together, and serve as powerful. \n",
    "\n",
    "Anaconda also comes with conda, which is a package manager, allowing you to download, install, and manage other packages. \n",
    "\n",
    "The anaconda distribution includes all packages that are required for these tutorials."
   ]
  },
  {
   "cell_type": "markdown",
   "metadata": {},
   "source": [
    "Notes\n",
    "-----\n",
    "- If you are on Mac, you have a native installation of python. This native installation of Python may be older, will not include the extra packages that you will need for this class, and is best left untouched. \n",
    "    - Downloading anaconda will install a separate, independent install of Python, leaving your native install untouched. \n",
    "- Windows does not require Python natively and so it is not typically pre-installed. "
   ]
  }
 ],
 "metadata": {
  "anaconda-cloud": {},
  "kernelspec": {
   "display_name": "Python 3",
   "language": "python",
   "name": "python3"
  },
  "language_info": {
   "codemirror_mode": {
    "name": "ipython",
    "version": 3
   },
   "file_extension": ".py",
   "mimetype": "text/x-python",
   "name": "python",
   "nbconvert_exporter": "python",
   "pygments_lexer": "ipython3",
   "version": "3.6.5"
  },
  "nbpresent": {
   "slides": {
    "3d09dc46-88c8-44cb-bc57-259db78a0e70": {
     "id": "3d09dc46-88c8-44cb-bc57-259db78a0e70",
     "prev": "8d1b5def-2290-42c9-8b06-1c6e0e495521",
     "regions": {
      "4601423d-c94d-46da-885b-fe33b0216c22": {
       "attrs": {
        "height": 1,
        "width": 1,
        "x": 0,
        "y": 0
       },
       "content": {
        "cell": "0f4dd046-4020-465c-85f6-3d92ac9fe145",
        "part": "whole"
       },
       "id": "4601423d-c94d-46da-885b-fe33b0216c22"
      }
     }
    },
    "8d1b5def-2290-42c9-8b06-1c6e0e495521": {
     "id": "8d1b5def-2290-42c9-8b06-1c6e0e495521",
     "prev": "bc666852-d015-42a1-b679-eaf92d5eb643",
     "regions": {
      "d0118c2f-7757-4efa-a276-96f162d312ae": {
       "attrs": {
        "height": 1,
        "width": 1,
        "x": 0,
        "y": 0
       },
       "content": {
        "cell": "d9d878d6-230b-4f1e-b2aa-2f152cb3fe8e",
        "part": "whole"
       },
       "id": "d0118c2f-7757-4efa-a276-96f162d312ae"
      }
     }
    },
    "b039dd05-8357-462a-9525-7f8103de436c": {
     "id": "b039dd05-8357-462a-9525-7f8103de436c",
     "prev": "3d09dc46-88c8-44cb-bc57-259db78a0e70",
     "regions": {
      "9180ab3f-f784-45a2-b2cc-a18aad800fc5": {
       "attrs": {
        "height": 1,
        "width": 1,
        "x": 0,
        "y": 0
       },
       "content": {
        "cell": "b57ed03a-8c01-4e48-95e8-9c6753e35088",
        "part": "whole"
       },
       "id": "9180ab3f-f784-45a2-b2cc-a18aad800fc5"
      }
     }
    },
    "bc666852-d015-42a1-b679-eaf92d5eb643": {
     "id": "bc666852-d015-42a1-b679-eaf92d5eb643",
     "layout": "grid",
     "prev": null,
     "regions": {
      "31cd776f-cc93-49d6-a40c-c590805cfb8f": {
       "attrs": {
        "height": 0.8333333333333334,
        "pad": 0.01,
        "width": 0.8333333333333334,
        "x": 0.08333333333333333,
        "y": 0.08333333333333333
       },
       "content": {
        "cell": "7fc0cefe-8b1c-4ca9-aa39-094614969842",
        "part": "whole"
       },
       "id": "31cd776f-cc93-49d6-a40c-c590805cfb8f"
      },
      "e1612c29-0f61-4692-9d6e-112e8d378e46": {
       "attrs": {
        "height": 0.8333333333333334,
        "pad": 0.01,
        "width": 0.8333333333333334,
        "x": 0.08333333333333333,
        "y": 0.08333333333333333
       },
       "content": {
        "cell": "7fc0cefe-8b1c-4ca9-aa39-094614969842",
        "part": "whole"
       },
       "id": "e1612c29-0f61-4692-9d6e-112e8d378e46"
      }
     }
    }
   },
   "themes": {}
  }
 },
 "nbformat": 4,
 "nbformat_minor": 1
}
